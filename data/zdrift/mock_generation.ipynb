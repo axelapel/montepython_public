{
 "cells": [
  {
   "cell_type": "code",
   "execution_count": 15,
   "source": [
    "import astropy.constants as cst\n",
    "import astropy.units as u\n",
    "import matplotlib.pyplot as plt\n",
    "import numpy as np\n"
   ],
   "outputs": [],
   "metadata": {}
  },
  {
   "cell_type": "markdown",
   "source": [
    "## Cosmology"
   ],
   "metadata": {}
  },
  {
   "cell_type": "code",
   "execution_count": 16,
   "source": [
    "# Models from Planck+18 (CMB-TT,TE,EE + lensing + BAO + SNe)\n",
    "LCDM = {\"Omega_m\": 0.3111, \"H0\": 67.66, \"w0\": -1.0, \"wa\": 0.0}\n",
    "wCDM = {\"Omega_m\": 0.3057, \"H0\": 68.34, \"w0\": -1.028, \"wa\": 0.0}\n",
    "w0waCDM = {\"Omega_m\": 0.3065, \"H0\": 68.31, \"w0\": -0.957, \"wa\": -0.29}\n",
    "\n",
    "# Choice of cosmology\n",
    "cosmo = w0waCDM\n"
   ],
   "outputs": [],
   "metadata": {}
  },
  {
   "cell_type": "markdown",
   "source": [
    "## Velocity shift"
   ],
   "metadata": {}
  },
  {
   "cell_type": "code",
   "execution_count": 17,
   "source": [
    "def vshift(z, Delta_t0, cosmo_params):\n",
    "    \"\"\"\n",
    "    Theoretical velocity shift observed after *Delta_t0* years at a redshfit z\n",
    "    with a cosmology given by the chosen cosmo_params.\n",
    "    \"\"\"\n",
    "    # Final quantity is expressed in cm/s\n",
    "    hubble_to_cgs = (u.km / u.s / u.Mpc).to(\"s-1\")\n",
    "    # E(z): Dimensionless Hubble parameter\n",
    "    E = np.sqrt(\n",
    "        cosmo_params[\"Omega_m\"] * (1 + z) ** 3\n",
    "        + (1 - cosmo_params[\"Omega_m\"])\n",
    "        * (1 + z) ** (3 * (1 + cosmo_params[\"w0\"] + cosmo_params[\"wa\"]))\n",
    "        * np.exp(-3 * cosmo_params[\"wa\"] * z / (1 + z))\n",
    "    )\n",
    "    # Conversion in velocity shift\n",
    "    Delta_v = (\n",
    "        cst.c.cgs.value\n",
    "        * (cosmo_params[\"H0\"] * hubble_to_cgs)\n",
    "        * (Delta_t0 * u.year.to(\"s\"))\n",
    "        * (1 - E / (1 + z))\n",
    "    )\n",
    "    return Delta_v\n"
   ],
   "outputs": [],
   "metadata": {}
  },
  {
   "cell_type": "markdown",
   "source": [
    "## Mock SKA2"
   ],
   "metadata": {}
  },
  {
   "cell_type": "code",
   "execution_count": 18,
   "source": [
    "# Half a year between observations\n",
    "Delta_t0 = 0.5\n",
    "\n",
    "# Fiducial signal\n",
    "z = np.linspace(0.2, 1.0, 5)  # 5 bins\n",
    "Delta_v = vshift(z, Delta_t0, cosmo)\n",
    "\n",
    "# Errors and noise\n",
    "err = z * 0.1 * Delta_v\n",
    "Delta_v += np.random.normal(0, err / 4)\n",
    "\n",
    "# Plot\n",
    "z_span = np.linspace(0, 1.1)\n",
    "fig, ax = plt.subplots(figsize=(7, 5))\n",
    "ax.plot(\n",
    "    z_span,\n",
    "    vshift(z_span, Delta_t0, cosmo),\n",
    "    \"--\",\n",
    "    c=\"#43820C\",\n",
    "    alpha=0.6,\n",
    "    label=\"Fiducial\",\n",
    ")\n",
    "ax.errorbar(\n",
    "    z, Delta_v, yerr=err, linestyle=\"\", capsize=2, color=\"#43820C\", label=\"SKA2 sample\"\n",
    ")\n",
    "ax.set(\n",
    "    xlim=(z_span[0], z_span[-1]), ylim=(0, 0.2), xlabel=\"z\", ylabel=r\"$\\Delta_v$ [cm/s]\"\n",
    ")\n",
    "ax.legend()\n",
    "\n",
    "# Generate the mock file\n",
    "out = \"./SKA2_6months.dat\"\n",
    "with open(out, \"w\") as file:\n",
    "    file.write(\n",
    "        \"# Fiducial parameters, Omega_m = {:.4f}, h = {:.2f}, w0_fld = {:.3f}, wa_fld = {:.3f}\\r\".format(\n",
    "            cosmo[\"Omega_m\"], cosmo[\"H0\"] / 100, cosmo[\"w0\"], cosmo[\"wa\"]\n",
    "        )\n",
    "    )\n",
    "    for i in range(len(z)):\n",
    "        file.write(\"{:.1f} {:.8f} {:.8f}\\r\".format(z[i], Delta_v[i], err[i]))\n"
   ],
   "outputs": [
    {
     "output_type": "display_data",
     "data": {
      "image/png": "[encoded data removed]",
      "text/plain": [
       "<Figure size 504x360 with 1 Axes>"
      ]
     },
     "metadata": {
      "needs_background": "light"
     }
    }
   ],
   "metadata": {}
  },
  {
   "cell_type": "markdown",
   "source": [
    "## Mock ELT"
   ],
   "metadata": {}
  },
  {
   "cell_type": "code",
   "execution_count": 24,
   "source": [
    "# Settings\n",
    "Delta_t0 = 20\n",
    "SNR = 3000\n",
    "sample_size = 30\n",
    "n_bins = 5\n",
    "\n",
    "# Binning\n",
    "z = np.linspace(2, 5, sample_size)\n",
    "N_QSOs, limits = np.histogram(z, bins=n_bins)\n",
    "z_binned = np.zeros(len(N_QSOs))\n",
    "for i in range(len(z_binned)):\n",
    "    z_binned[i] = 0.5 * (limits[i] + limits[i + 1])\n",
    "\n",
    "# Uncertainties\n",
    "err = np.zeros_like(z_binned)\n",
    "for i in range(len(err)):\n",
    "    if z_binned[i] <= 4:\n",
    "        err[i] = (\n",
    "            1.35 * 2370 / SNR * np.sqrt(30 / N_QSOs[i]) * (5 / (1 + z_binned[i])) ** 1.7\n",
    "        )\n",
    "    else:\n",
    "        err[i] = (\n",
    "            1.35 * 2370 / SNR * np.sqrt(30 / N_QSOs[i]) * (5 / (1 + z_binned[i])) ** 0.9\n",
    "        )\n",
    "\n",
    "# Mock\n",
    "Delta_v = vshift(z_binned, Delta_t0, LCDM) + np.random.normal(0, err / 4)\n",
    "\n",
    "# Plot\n",
    "z_span = np.linspace(0, 5)\n",
    "fig, ax = plt.subplots(figsize=(7, 5))\n",
    "ax.plot(z_span, vshift(z_span, Delta_t0, LCDM), c=\"darkred\", label=r\"$\\Lambda$CDM\")\n",
    "ax.errorbar(\n",
    "    z_binned,\n",
    "    Delta_v,\n",
    "    yerr=err,\n",
    "    linestyle=\"\",\n",
    "    capsize=2,\n",
    "    color=\"darkred\",\n",
    "    label=\"ELT sample\",\n",
    ")\n",
    "ax.set(xlim=(z_span[0], z_span[-1]), xlabel=\"z\", ylabel=r\"$\\Delta v$ [cm/s]\")\n",
    "ax.axhline(0, ls=\"--\", color=\"k\", lw=0.8)\n",
    "ax.legend()\n",
    "\n",
    "# Generate the mock file\n",
    "out = \"./ELT_20years.dat\"\n",
    "with open(out, \"w\") as file:\n",
    "    file.write(\n",
    "        \"# Fiducial parameters, Omega_m = {:.4f}, h = {:.2f}, w0_fld = {:.3f}, wa_fld = {:.3f}\\r\".format(\n",
    "            cosmo[\"Omega_m\"], cosmo[\"H0\"] / 100, cosmo[\"w0\"], cosmo[\"wa\"]\n",
    "        )\n",
    "    )\n",
    "    for i in range(len(z_binned)):\n",
    "        file.write(\"{:.1f} {:.8f} {:.8f}\\r\".format(z[i], Delta_v[i], err[i]))\n"
   ],
   "outputs": [
    {
     "output_type": "display_data",
     "data": {
      "image/png": "[encoded data removed]",
      "text/plain": [
       "<Figure size 504x360 with 1 Axes>"
      ]
     },
     "metadata": {
      "needs_background": "light"
     }
    }
   ],
   "metadata": {}
  }
 ],
 "metadata": {
  "orig_nbformat": 4,
  "language_info": {
   "name": "python",
   "version": "3.8.10",
   "mimetype": "text/x-python",
   "codemirror_mode": {
    "name": "ipython",
    "version": 3
   },
   "pygments_lexer": "ipython3",
   "nbconvert_exporter": "python",
   "file_extension": ".py"
  },
  "kernelspec": {
   "name": "python3",
   "display_name": "Python 3.8.10 64-bit"
  },
  "interpreter": {
   "hash": "31f2aee4e71d21fbe5cf8b01ff0e069b9275f58929596ceb00d14d90e3e16cd6"
  }
 },
 "nbformat": 4,
 "nbformat_minor": 2
}